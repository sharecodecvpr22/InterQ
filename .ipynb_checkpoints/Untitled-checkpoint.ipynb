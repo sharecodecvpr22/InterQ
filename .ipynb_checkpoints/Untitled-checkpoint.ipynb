{
 "cells": [
  {
   "cell_type": "code",
   "execution_count": null,
   "id": "3ccae8d1",
   "metadata": {},
   "outputs": [],
   "source": [
    "import matplotlib.pyplot as plt\n",
    "import numpy as np\n",
    "\n",
    "data1 = [3, 14, 22, 13, 10, 38]\n",
    "data2 = [90, 10, 0, 0, 0, 0]\n",
    "data3 = [100, 0, 0, 0, 0, 0]\n",
    "data4 = [42, 35, 22, 0, 0, 1]\n",
    "\n",
    "name = ['>0.99', '0.95-0.99', '0.85-0.95', '0.75-0.85', '0.65-0.75', '<0.65']\n",
    "\n",
    "x =np.arange(len(data1))\n",
    "\n",
    "width = 0.15\n",
    "\n",
    "fig, ax=plt.subplots()\n",
    "fig.set_size_inches(7,4)\n",
    " \n",
    "plt.bar(x-1.5*width, data1, width=width, label='real data', fc = 'royalblue')\n",
    "plt.bar(x-0.5*width, data2, width=width, label='ZeroQ+IL', fc = 'lightcoral')\n",
    "plt.bar(x+0.5*width, data3, width=width, label='DSG+IL', fc = 'lightgreen')\n",
    "plt.bar(x+1.5*width, data4, width=width, label='ours', fc = 'c')\n",
    "plt.xticks(x, labels=name)\n",
    "\n",
    "plt.xlabel('Range')\n",
    "plt.ylabel('Percentage(%)')\n",
    "\n",
    "ax.spines['right'].set_visible(False)\n",
    "ax.spines['top'].set_visible(False)\n",
    "\n",
    "plt.legend()\n",
    "plt.savefig(fname=\"./Target Overfitting.pdf\",dpi=100, pad_inches=0)\n",
    "\n"
   ]
  },
  {
   "cell_type": "code",
   "execution_count": 66,
   "id": "fde6caba",
   "metadata": {},
   "outputs": [],
   "source": [
    "import os\n",
    "import seaborn\n",
    "os.environ[\"KMP_DUPLICATE_LIB_OK\"]=\"TRUE\"\n",
    "import matplotlib.pyplot as plt\n",
    "%matplotlib inline\n",
    "\n",
    "import pickle\n",
    "\n",
    "with open(\"../last_features_Categorical_bs_1.pickle\", \"rb\") as fp:   #Pickling\n",
    "    data = pickle.load(fp)  \n",
    "# with open(\"../real_data_labels.pickle\", \"rb\") as fp:   #Pickling\n",
    "#     label = pickle.load(fp)  "
   ]
  },
  {
   "cell_type": "code",
   "execution_count": 68,
   "id": "7710e845",
   "metadata": {},
   "outputs": [
    {
     "name": "stdout",
     "output_type": "stream",
     "text": [
      "Begining......\n",
      "Finished......\n"
     ]
    }
   ],
   "source": [
    "import numpy as np\n",
    "from sklearn.manifold import TSNE\n",
    "import numpy\n",
    "\n",
    "def getData(mydict, maxi, cls):\n",
    "    data = []\n",
    "    count = 0\n",
    "    for i in range(len( mydict[cls])):\n",
    "        data.append(np.squeeze(mydict[cls][i]))\n",
    "        count +=1\n",
    "        if count == maxi:\n",
    "            break\n",
    "    return data\n",
    "\n",
    "cls_data = None\n",
    "for cls in [2,17,28,35,43]:\n",
    "    cls_data0 = getData(data, 200, cls)\n",
    "    cls_data0 = np.array(cls_data0)\n",
    "    if cls_data is None:\n",
    "        cls_data = cls_data0\n",
    "    else:\n",
    "        cls_data = np.concatenate((cls_data, cls_data0))\n",
    "    \n",
    "print('Begining......') #时间会较长，所有处理完毕后给出finished提示\n",
    "tsne_2D = TSNE(n_components=2, init='pca', random_state=0) #调用TSNE\n",
    "result_2D = tsne_2D.fit_transform(cls_data)\n",
    "#     numpy.savetxt('./var_result_2D'+str(layer_index)+'.csv', result_2D, delimiter = ',')\n",
    "print('Finished......')\n",
    "\n",
    "#     show_trajectory(result_2D, layer_index)\n",
    "    \n",
    "\n",
    "\n"
   ]
  },
  {
   "cell_type": "code",
   "execution_count": 70,
   "id": "626bea03",
   "metadata": {},
   "outputs": [
    {
     "data": {
      "image/png": "[encoded data removed]",
      "text/plain": [
       "<Figure size 216x216 with 1 Axes>"
      ]
     },
     "metadata": {
      "needs_background": "light"
     },
     "output_type": "display_data"
    }
   ],
   "source": [
    "def show_trajectory(result_2D, numbers):\n",
    "    \n",
    "    fig, ax = plt.subplots()\n",
    "    fig.set_size_inches(3, 3)\n",
    "    \n",
    "    colors = ['#1f77b4', '#ff7f0e', '#2ca02c', '#d62728', '#9467bd']\n",
    "    for i, cls in enumerate([2,17,28,35,43]):\n",
    "        datax, datay = [], []\n",
    "#         for j in range(500):\n",
    "        datax.append(result_2D[numbers*i:numbers*(i+1),0])\n",
    "        datay.append(result_2D[numbers*i:numbers*(i+1),1])\n",
    "        ax.scatter(datax, datay, c=colors[i], label='class: '+str(cls), s=10, marker='o', alpha=1, edgecolors='none') \n",
    "#         ax.scatter(datax, datay, label='class: '+str(cls), s=30, marker='o', alpha=1, edgecolors='none') \n",
    "\n",
    "#     ax.legend(loc=1)\n",
    "#     ax.grid(True)\n",
    "#     plt.axis(\"off\")\n",
    "#     plt.gca().xaxis.set_major_locator(plt.NullLocator()) \n",
    "#     plt.gca().yaxis.set_major_locator(plt.NullLocator()) \n",
    "#     plt.subplots_adjust(top=1,bottom=0,left=0,right=1,hspace=0,wspace=0) \n",
    "    plt.savefig(‘hah.png’,bbox_inches=‘tight’,dpi=600,pad_inches=0.0)\n",
    "    plt.margins(0,0)\n",
    "    plt.ylim((-40, 40))\n",
    "    plt.xlim((-40, 40))\n",
    "    plt.savefig('./real data tsne-1.pdf',dpi=100,pad_inches=0)\n",
    "    plt.show()\n",
    "\n",
    "\n",
    "show_trajectory(result_2D, 200)"
   ]
  },
  {
   "cell_type": "code",
   "execution_count": null,
   "id": "124f0df8",
   "metadata": {},
   "outputs": [],
   "source": []
  },
  {
   "cell_type": "code",
   "execution_count": null,
   "id": "6248352b",
   "metadata": {},
   "outputs": [],
   "source": []
  },
  {
   "cell_type": "code",
   "execution_count": null,
   "id": "80adbc32",
   "metadata": {},
   "outputs": [],
   "source": []
  },
  {
   "cell_type": "code",
   "execution_count": null,
   "id": "aeefcfd9",
   "metadata": {},
   "outputs": [],
   "source": []
  },
  {
   "cell_type": "code",
   "execution_count": 71,
   "id": "5ed4956e",
   "metadata": {},
   "outputs": [
    {
     "name": "stdout",
     "output_type": "stream",
     "text": [
      "../zeroq_noc_no_feature.pickle\n",
      "Begining......\n",
      "Finished......\n"
     ]
    }
   ],
   "source": [
    "import numpy as np\n",
    "from sklearn.manifold import TSNE\n",
    "import numpy\n",
    "import matplotlib.pyplot as plt\n",
    "import pickle\n",
    "\n",
    "def getData(mydict, label, maxi, cls):\n",
    "    data = []\n",
    "    count = 0\n",
    "    clsdata = mydict[label == cls]\n",
    "    for i in range(len(clsdata)):\n",
    "        data.append(np.squeeze(clsdata[i]))\n",
    "        count +=1\n",
    "        if count == maxi:\n",
    "            break\n",
    "    return data\n",
    "\n",
    "data = None\n",
    "path = \"../zeroq_noc_no_feature.pickle\"\n",
    "print(path)\n",
    "with open(path, \"rb\") as fp:\n",
    "    data = pickle.load(fp)\n",
    "\n",
    "# label = None\n",
    "# path = \"./labels_list_dsg.pickle\"\n",
    "# print(path)\n",
    "# with open(path, \"rb\") as fp:\n",
    "#     label = pickle.load(fp)\n",
    "\n",
    "cls_data = data[:1000]\n",
    "# for cls in [2,17,28,35,43]:\n",
    "#     cls_data0 = getData(data, label, 200, cls)\n",
    "#     cls_data0 = np.array(cls_data0)\n",
    "#     if cls_data is None:\n",
    "#         cls_data = cls_data0\n",
    "#     else:\n",
    "#         cls_data = np.concatenate((cls_data, cls_data0))\n",
    "    \n",
    "print('Begining......') #时间会较长，所有处理完毕后给出finished提示\n",
    "tsne_2D = TSNE(n_components=2, init='pca', random_state=0) #调用TSNE\n",
    "result_2D = tsne_2D.fit_transform(cls_data)\n",
    "#     numpy.savetxt('./var_result_2D'+str(layer_index)+'.csv', result_2D, delimiter = ',')\n",
    "print('Finished......')\n",
    "\n",
    "#     show_trajectory(result_2D, layer_index)\n",
    "    \n",
    "\n",
    "\n"
   ]
  },
  {
   "cell_type": "code",
   "execution_count": 72,
   "id": "e83a5079",
   "metadata": {},
   "outputs": [
    {
     "data": {
      "image/png": "[encoded data removed]",
      "text/plain": [
       "<Figure size 216x216 with 1 Axes>"
      ]
     },
     "metadata": {
      "needs_background": "light"
     },
     "output_type": "display_data"
    }
   ],
   "source": [
    "def show_trajectory(result_2D, numbers):\n",
    "    \n",
    "    fig, ax = plt.subplots()\n",
    "    fig.set_size_inches(3, 3)\n",
    "    \n",
    "    colors = ['#1f77b4', '#ff7f0e', '#2ca02c', '#d62728', '#9467bd']\n",
    "#     for i, cls in enumerate([48,102,377,587,831]):\n",
    "#         datax, datay = [], []\n",
    "# #         for j in range(500):\n",
    "#         datax.append(result_2D[numbers*i:numbers*(i+1),0])\n",
    "#         datay.append(result_2D[numbers*i:numbers*(i+1),1])\n",
    "#         ax.scatter(datax, datay, c=colors[i], label='class: '+str(cls), s=10, marker='o', alpha=1, edgecolors='none') \n",
    "# #         ax.scatter(datax, datay, label='class: '+str(cls), s=30, marker='o', alpha=1, edgecolors='none') \n",
    "    for i in range(1000):\n",
    "        datax, datay = [], []\n",
    "        datax.append(result_2D[i:(i+1),0])\n",
    "        datay.append(result_2D[i:(i+1),1])\n",
    "        ax.scatter(datax, datay, c='#1f77b4', label='class: '+str(1), s=10, marker='o', alpha=1, edgecolors='none') \n",
    "#         ax.scatter(datax, datay, label='class: '+str(cls), s=30, marker='o', alpha=1, edgecolors='none') \n",
    "\n",
    "\n",
    "#     ax.legend(loc=1)\n",
    "#     ax.grid(True)\n",
    "#     plt.axis(\"off\")\n",
    "#     plt.gca().xaxis.set_major_locator(plt.NullLocator()) \n",
    "#     plt.gca().yaxis.set_major_locator(plt.NullLocator()) \n",
    "#     plt.subplots_adjust(top=1,bottom=0,left=0,right=1,hspace=0,wspace=0) \n",
    "    plt.margins(0,0)\n",
    "    plt.ylim((-40, 40))\n",
    "    plt.xlim((-40, 40))\n",
    "    plt.savefig('./zeroq tsne-1.pdf',dpi=100,pad_inches=0)\n",
    "    #plt.show()\n",
    "\n",
    "\n",
    "show_trajectory(result_2D, 200)"
   ]
  },
  {
   "cell_type": "code",
   "execution_count": null,
   "id": "594e9a36",
   "metadata": {},
   "outputs": [],
   "source": []
  },
  {
   "cell_type": "code",
   "execution_count": null,
   "id": "550a269d",
   "metadata": {},
   "outputs": [],
   "source": []
  },
  {
   "cell_type": "code",
   "execution_count": 73,
   "id": "1e8b6b4b",
   "metadata": {},
   "outputs": [
    {
     "name": "stdout",
     "output_type": "stream",
     "text": [
      "../dsg_noc_no_feature.pickle\n",
      "Begining......\n",
      "Finished......\n"
     ]
    }
   ],
   "source": [
    "import numpy as np\n",
    "from sklearn.manifold import TSNE\n",
    "import numpy\n",
    "import matplotlib.pyplot as plt\n",
    "import pickle\n",
    "\n",
    "def getData(mydict, label, maxi, cls):\n",
    "    data = []\n",
    "    count = 0\n",
    "    clsdata = mydict[label == cls]\n",
    "    for i in range(len(clsdata)):\n",
    "        data.append(np.squeeze(clsdata[i]))\n",
    "        count +=1\n",
    "        if count == maxi:\n",
    "            break\n",
    "    return data\n",
    "\n",
    "data = None\n",
    "path = \"../dsg_noc_no_feature.pickle\"\n",
    "print(path)\n",
    "with open(path, \"rb\") as fp:\n",
    "    data = pickle.load(fp)\n",
    "\n",
    "# label = None\n",
    "# path = \"./labels_list_dsg.pickle\"\n",
    "# print(path)\n",
    "# with open(path, \"rb\") as fp:\n",
    "#     label = pickle.load(fp)\n",
    "\n",
    "cls_data = data[:1000]\n",
    "# for cls in [2,17,28,35,43]:\n",
    "#     cls_data0 = getData(data, label, 200, cls)\n",
    "#     cls_data0 = np.array(cls_data0)\n",
    "#     if cls_data is None:\n",
    "#         cls_data = cls_data0\n",
    "#     else:\n",
    "#         cls_data = np.concatenate((cls_data, cls_data0))\n",
    "    \n",
    "print('Begining......') #时间会较长，所有处理完毕后给出finished提示\n",
    "tsne_2D = TSNE(n_components=2, init='pca', random_state=0) #调用TSNE\n",
    "result_2D = tsne_2D.fit_transform(cls_data)\n",
    "#     numpy.savetxt('./var_result_2D'+str(layer_index)+'.csv', result_2D, delimiter = ',')\n",
    "print('Finished......')\n",
    "\n",
    "#     show_trajectory(result_2D, layer_index)\n",
    "    \n",
    "\n",
    "\n"
   ]
  },
  {
   "cell_type": "code",
   "execution_count": 74,
   "id": "4daf4d62",
   "metadata": {},
   "outputs": [
    {
     "data": {
      "image/png": "[encoded data removed]",
      "text/plain": [
       "<Figure size 216x216 with 1 Axes>"
      ]
     },
     "metadata": {
      "needs_background": "light"
     },
     "output_type": "display_data"
    }
   ],
   "source": [
    "def show_trajectory(result_2D, numbers):\n",
    "    \n",
    "    fig, ax = plt.subplots()\n",
    "    fig.set_size_inches(3, 3)\n",
    "    \n",
    "    colors = ['#1f77b4', '#ff7f0e', '#2ca02c', '#d62728', '#9467bd']\n",
    "#     for i, cls in enumerate([48,102,377,587,831]):\n",
    "#         datax, datay = [], []\n",
    "# #         for j in range(500):\n",
    "#         datax.append(result_2D[numbers*i:numbers*(i+1),0])\n",
    "#         datay.append(result_2D[numbers*i:numbers*(i+1),1])\n",
    "#         ax.scatter(datax, datay, c=colors[i], label='class: '+str(cls), s=10, marker='o', alpha=1, edgecolors='none') \n",
    "# #         ax.scatter(datax, datay, label='class: '+str(cls), s=30, marker='o', alpha=1, edgecolors='none') \n",
    "    for i in range(1000):\n",
    "        datax, datay = [], []\n",
    "        datax.append(result_2D[i:(i+1),0])\n",
    "        datay.append(result_2D[i:(i+1),1])\n",
    "        ax.scatter(datax, datay, c='#1f77b4', label='class: '+str(1), s=10, marker='o', alpha=1, edgecolors='none') \n",
    "#         ax.scatter(datax, datay, label='class: '+str(cls), s=30, marker='o', alpha=1, edgecolors='none') \n",
    "\n",
    "\n",
    "#     ax.legend(loc=1)\n",
    "#     ax.grid(True)\n",
    "#     plt.axis(\"off\")\n",
    "#     plt.gca().xaxis.set_major_locator(plt.NullLocator()) \n",
    "#     plt.gca().yaxis.set_major_locator(plt.NullLocator()) \n",
    "#     plt.subplots_adjust(top=1,bottom=0,left=0,right=1,hspace=0,wspace=0) \n",
    "    plt.margins(0,0)\n",
    "    plt.ylim((-40, 40))\n",
    "    plt.xlim((-40, 40))\n",
    "    plt.savefig('./dsg tsne-1.pdf',dpi=100,pad_inches=0)\n",
    "    #plt.show()\n",
    "\n",
    "\n",
    "show_trajectory(result_2D, 200)"
   ]
  },
  {
   "cell_type": "code",
   "execution_count": null,
   "id": "cb7507c6",
   "metadata": {},
   "outputs": [],
   "source": []
  },
  {
   "cell_type": "code",
   "execution_count": null,
   "id": "81f5b8e1",
   "metadata": {},
   "outputs": [],
   "source": []
  },
  {
   "cell_type": "code",
   "execution_count": null,
   "id": "0d0077c9",
   "metadata": {},
   "outputs": [],
   "source": []
  },
  {
   "cell_type": "code",
   "execution_count": 42,
   "id": "369e1ddf",
   "metadata": {},
   "outputs": [
    {
     "data": {
      "image/png": "[encoded data removed]",
      "text/plain": [
       "<Figure size 345.6x288 with 1 Axes>"
      ]
     },
     "metadata": {
      "needs_background": "light"
     },
     "output_type": "display_data"
    }
   ],
   "source": [
    "import os\n",
    "import seaborn\n",
    "os.environ[\"KMP_DUPLICATE_LIB_OK\"]=\"TRUE\"\n",
    "import matplotlib.pyplot as plt\n",
    "%matplotlib inline\n",
    "\n",
    "\n",
    "fig, ax = plt.subplots()\n",
    "# fig.legend(loc=1)\n",
    "colors = ['royalblue', '#ff7f0e', '#2ca02c', '#d62728', '#9467bd']\n",
    "width = 0.25\n",
    "\n",
    "# fig.set_size_inches(3.2, 4)\n",
    "fig.set_size_inches(4.8, 4)\n",
    "\n",
    "\n",
    "x = ['0.1','0.2','0.3','0.4']\n",
    "y = [65.94, 66.02,  66.47, 65.78]\n",
    "\n",
    "plt.ylim((65.5, 66.6))\n",
    "ax.spines['right'].set_visible(False)\n",
    "ax.spines['top'].set_visible(False)\n",
    "\n",
    "\n",
    "\n",
    "x_1 = [0.1, 0.5, 0.9, 1.3]\n",
    "# plt.bar(x_1, y, color=colors[0], label='Mean', width=width, alpha=1)\n",
    "plt.plot(x_1, y, '.-', color='crimson', label='Mean',  alpha=0.9, markersize=15, linewidth=2.5)\n",
    "\n",
    "for i, j in zip(x_1, y):\n",
    "    if i == 0.1:\n",
    "        plt.text(i+0.03, j+0.08, str(j), ha='center',fontsize=12)\n",
    "    elif i == 0.5:\n",
    "        plt.text(i, j+0.10, str(j), ha='center',fontsize=12)\n",
    "    elif i == 1.3:\n",
    "        plt.text(i+0.02, j+0.10, str(j), ha='center',fontsize=12)\n",
    "    else:\n",
    "        plt.text(i, j+0.08, str(j), ha='center',fontsize=12)\n",
    "#     plt.text(i+0.02, j+0.15, str(j), ha='center',fontsize=12)\n",
    "\n",
    "ax.set_xticks(x_1)\n",
    "ax.set_xticklabels(x)\n",
    "plt.ylabel('Acc.(%)',fontdict={'size':20})\n",
    "\n",
    "\n",
    "# plt.xlabel(chr(945)+'2')\n",
    "plt.xlabel(r\"$\\lambda_l$\", fontdict={'size':20})\n",
    "plt.savefig('./lambda_l.pdf',dpi=100,pad_inches=0,bbox_inches='tight')\n",
    "plt.show()  # 显示折线图"
   ]
  },
  {
   "cell_type": "code",
   "execution_count": null,
   "id": "f5eea7ee",
   "metadata": {},
   "outputs": [],
   "source": []
  },
  {
   "cell_type": "code",
   "execution_count": 41,
   "id": "a145ae6f",
   "metadata": {},
   "outputs": [
    {
     "data": {
      "image/png": "[encoded data removed]",
      "text/plain": [
       "<Figure size 345.6x288 with 1 Axes>"
      ]
     },
     "metadata": {
      "needs_background": "light"
     },
     "output_type": "display_data"
    }
   ],
   "source": [
    "import os\n",
    "import seaborn\n",
    "os.environ[\"KMP_DUPLICATE_LIB_OK\"]=\"TRUE\"\n",
    "import matplotlib.pyplot as plt\n",
    "%matplotlib inline\n",
    "\n",
    "\n",
    "fig, ax = plt.subplots()\n",
    "# fig.legend(loc=1)\n",
    "colors = ['royalblue', '#ff7f0e', '#2ca02c', '#d62728', '#9467bd']\n",
    "width = 0.25\n",
    "\n",
    "# fig.set_size_inches(3.2, 4)\n",
    "fig.set_size_inches(4.8, 4)\n",
    "\n",
    "\n",
    "x = ['0.6','0.7','0.8','0.9']\n",
    "y = [65.72, 65.83, 66.47, 65.73]\n",
    "\n",
    "plt.ylim((65.5, 66.6))\n",
    "ax.spines['right'].set_visible(False)\n",
    "ax.spines['top'].set_visible(False)\n",
    "\n",
    "\n",
    "\n",
    "x_1 = [0.1, 0.5, 0.9, 1.3]\n",
    "# plt.bar(x_1, y, color=colors[0], label='Mean', width=width, alpha=1)\n",
    "plt.plot(x_1, y, '.-', color='crimson', label='Mean',  alpha=0.9, markersize=15, linewidth=2.5)\n",
    "\n",
    "for i, j in zip(x_1, y):\n",
    "    if i == 0.1:\n",
    "        plt.text(i+0.03, j+0.08, str(j), ha='center',fontsize=12)\n",
    "    elif i == 0.5:\n",
    "        plt.text(i-0.02, j+0.10, str(j), ha='center',fontsize=12)\n",
    "    elif i == 1.3:\n",
    "        plt.text(i+0.02, j+0.10, str(j), ha='center',fontsize=12)\n",
    "    else:\n",
    "        plt.text(i, j+0.08, str(j), ha='center',fontsize=12)\n",
    "#     plt.text(i+0.02, j+0.15, str(j), ha='center',fontsize=12)\n",
    "\n",
    "ax.set_xticks(x_1)\n",
    "ax.set_xticklabels(x)\n",
    "plt.ylabel('Acc.(%)',fontdict={'size':20})\n",
    "\n",
    "\n",
    "# plt.xlabel(chr(945)+'2')\n",
    "plt.xlabel(r\"$\\lambda_u$\", fontdict={'size':20})\n",
    "plt.savefig('./lambda_u.pdf',dpi=100,pad_inches=0,bbox_inches='tight')\n",
    "plt.show()  # 显示折线图"
   ]
  },
  {
   "cell_type": "code",
   "execution_count": 40,
   "id": "cea5aab3",
   "metadata": {},
   "outputs": [
    {
     "data": {
      "image/png": "[encoded data removed]",
      "text/plain": [
       "<Figure size 345.6x288 with 1 Axes>"
      ]
     },
     "metadata": {
      "needs_background": "light"
     },
     "output_type": "display_data"
    }
   ],
   "source": [
    "import os\n",
    "import seaborn\n",
    "os.environ[\"KMP_DUPLICATE_LIB_OK\"]=\"TRUE\"\n",
    "import matplotlib.pyplot as plt\n",
    "%matplotlib inline\n",
    "\n",
    "\n",
    "fig, ax = plt.subplots()\n",
    "# fig.legend(loc=1)\n",
    "colors = ['royalblue', '#ff7f0e', '#2ca02c', '#d62728', '#9467bd']\n",
    "width = 0.25\n",
    "\n",
    "# fig.set_size_inches(3.2, 4)\n",
    "fig.set_size_inches(4.8, 4)\n",
    "\n",
    "\n",
    "x = ['0.3','0.4','0.5','0.6']\n",
    "y = [65.59, 65.95, 66.47, 65.75]\n",
    "\n",
    "plt.ylim((65.5, 66.6))\n",
    "ax.spines['right'].set_visible(False)\n",
    "ax.spines['top'].set_visible(False)\n",
    "\n",
    "\n",
    "\n",
    "x_1 = [0.1, 0.5, 0.9, 1.3]\n",
    "# plt.bar(x_1, y, color=colors[0], label='Mean', width=width, alpha=1)\n",
    "plt.plot(x_1, y, '.-', color='crimson', label='Mean',  alpha=0.9, markersize=15, linewidth=2.5)\n",
    "\n",
    "for i, j in zip(x_1, y):\n",
    "    if i == 0.1:\n",
    "        plt.text(i+0.03, j+0.08, str(j), ha='center',fontsize=12)\n",
    "    elif i == 0.5:\n",
    "        plt.text(i-0.02, j+0.10, str(j), ha='center',fontsize=12)\n",
    "    elif i == 1.3:\n",
    "        plt.text(i+0.02, j+0.10, str(j), ha='center',fontsize=12)\n",
    "    else:\n",
    "        plt.text(i, j+0.08, str(j), ha='center',fontsize=12)\n",
    "#     plt.text(i+0.02, j+0.15, str(j), ha='center',fontsize=12)\n",
    "\n",
    "ax.set_xticks(x_1)\n",
    "ax.set_xticklabels(x)\n",
    "plt.ylabel('Acc.(%)',fontdict={'size':20})\n",
    "\n",
    "\n",
    "# plt.xlabel(chr(945)+'2')\n",
    "plt.xlabel(r\"$\\eta$\", fontdict={'size':20})\n",
    "plt.savefig('./eta.pdf',dpi=100,pad_inches=0,bbox_inches='tight')\n",
    "plt.show()  # 显示折线图"
   ]
  },
  {
   "cell_type": "code",
   "execution_count": 39,
   "id": "15b71e7c",
   "metadata": {},
   "outputs": [
    {
     "data": {
      "image/png": "[encoded data removed]",
      "text/plain": [
       "<Figure size 345.6x288 with 1 Axes>"
      ]
     },
     "metadata": {
      "needs_background": "light"
     },
     "output_type": "display_data"
    }
   ],
   "source": [
    "import os\n",
    "import seaborn\n",
    "os.environ[\"KMP_DUPLICATE_LIB_OK\"]=\"TRUE\"\n",
    "import matplotlib.pyplot as plt\n",
    "%matplotlib inline\n",
    "\n",
    "\n",
    "fig, ax = plt.subplots()\n",
    "# fig.legend(loc=1)\n",
    "colors = ['royalblue', '#ff7f0e', '#2ca02c', '#d62728', '#9467bd']\n",
    "width = 0.25\n",
    "\n",
    "# fig.set_size_inches(3.2, 4)\n",
    "fig.set_size_inches(4.8, 4)\n",
    "\n",
    "\n",
    "x = ['0.7','0.8','0.9','1.0']\n",
    "y = [65.89, 65.91, 66.47, 65.95]\n",
    "\n",
    "plt.ylim((65.5, 66.6))\n",
    "ax.spines['right'].set_visible(False)\n",
    "ax.spines['top'].set_visible(False)\n",
    "\n",
    "\n",
    "\n",
    "x_1 = [0.1, 0.5, 0.9, 1.3]\n",
    "# plt.bar(x_1, y, color=colors[0], label='Mean', width=width, alpha=1)\n",
    "plt.plot(x_1, y, '.-', color='crimson', label='Mean',  alpha=0.9, markersize=15, linewidth=2.5)\n",
    "\n",
    "for i, j in zip(x_1, y):\n",
    "    if i == 0.1:\n",
    "        plt.text(i+0.03, j+0.08, str(j), ha='center',fontsize=12)\n",
    "    elif i == 0.5:\n",
    "        plt.text(i-0.02, j+0.10, str(j), ha='center',fontsize=12)\n",
    "    elif i == 1.3:\n",
    "        plt.text(i+0.02, j+0.10, str(j), ha='center',fontsize=12)\n",
    "    else:\n",
    "        plt.text(i, j+0.08, str(j), ha='center',fontsize=12)\n",
    "#     plt.text(i+0.02, j+0.15, str(j), ha='center',fontsize=12)\n",
    "\n",
    "ax.set_xticks(x_1)\n",
    "ax.set_xticklabels(x)\n",
    "plt.ylabel('Acc.(%)',fontdict={'size':20})\n",
    "\n",
    "\n",
    "# plt.xlabel(chr(945)+'2')\n",
    "plt.xlabel(r\"$\\epsilon$\", fontdict={'size':20})\n",
    "plt.savefig('./epsilon.pdf',dpi=100,pad_inches=0,bbox_inches='tight')\n",
    "plt.show()  # 显示折线图"
   ]
  },
  {
   "cell_type": "code",
   "execution_count": 38,
   "id": "ff38dfac",
   "metadata": {},
   "outputs": [
    {
     "data": {
      "image/png": "[encoded data removed]",
      "text/plain": [
       "<Figure size 345.6x288 with 1 Axes>"
      ]
     },
     "metadata": {
      "needs_background": "light"
     },
     "output_type": "display_data"
    }
   ],
   "source": [
    "import os\n",
    "import seaborn\n",
    "os.environ[\"KMP_DUPLICATE_LIB_OK\"]=\"TRUE\"\n",
    "import matplotlib.pyplot as plt\n",
    "%matplotlib inline\n",
    "\n",
    "\n",
    "fig, ax = plt.subplots()\n",
    "# fig.legend(loc=1)\n",
    "colors = ['royalblue', '#ff7f0e', '#2ca02c', '#d62728', '#9467bd']\n",
    "width = 0.25\n",
    "\n",
    "# fig.set_size_inches(3.2, 4)\n",
    "fig.set_size_inches(4.8, 4)\n",
    "\n",
    "\n",
    "x = ['40%','50%','60%','70%']\n",
    "y = [65.57, 66.47,66.03, 65.60]\n",
    "\n",
    "plt.ylim((65.5, 66.6))\n",
    "ax.spines['right'].set_visible(False)\n",
    "ax.spines['top'].set_visible(False)\n",
    "\n",
    "\n",
    "\n",
    "x_1 = [0.1, 0.5, 0.9, 1.3]\n",
    "# plt.bar(x_1, y, color=colors[0], label='Mean', width=width, alpha=1)\n",
    "plt.plot(x_1, y, '.-', color='crimson', label='Mean',  alpha=0.9, markersize=15, linewidth=2.5)\n",
    "\n",
    "for i, j in zip(x_1, y):\n",
    "    if i == 0.1:\n",
    "        plt.text(i+0.02, j+0.19, str(j), ha='center',fontsize=12)\n",
    "    elif i == 0.5:\n",
    "        plt.text(i-0.02, j+0.10, str(j), ha='center',fontsize=12)\n",
    "    elif i == 1.3:\n",
    "        plt.text(i+0.02, j+0.10, str(j), ha='center',fontsize=12)\n",
    "    else:\n",
    "        plt.text(i, j+0.08, str(j), ha='center',fontsize=12)\n",
    "#     plt.text(i+0.02, j+0.15, str(j), ha='center',fontsize=12)\n",
    "\n",
    "ax.set_xticks(x_1)\n",
    "ax.set_xticklabels(x)\n",
    "plt.ylabel('Acc.(%)',fontdict={'size':20})\n",
    "\n",
    "\n",
    "# plt.xlabel(chr(945)+'2')\n",
    "plt.xlabel(r\"Ratio of harder images\", fontdict={'size':16})\n",
    "plt.savefig('./harder images.pdf',dpi=100,pad_inches=0,bbox_inches='tight')\n",
    "plt.show()  # 显示折线图"
   ]
  },
  {
   "cell_type": "code",
   "execution_count": null,
   "id": "21d0a11a",
   "metadata": {},
   "outputs": [],
   "source": []
  },
  {
   "cell_type": "code",
   "execution_count": 44,
   "id": "7fd2951f",
   "metadata": {},
   "outputs": [
    {
     "data": {
      "image/png": "[encoded data removed]",
      "text/plain": [
       "<Figure size 345.6x288 with 1 Axes>"
      ]
     },
     "metadata": {
      "needs_background": "light"
     },
     "output_type": "display_data"
    }
   ],
   "source": [
    "import os\n",
    "import seaborn\n",
    "os.environ[\"KMP_DUPLICATE_LIB_OK\"]=\"TRUE\"\n",
    "import matplotlib.pyplot as plt\n",
    "%matplotlib inline\n",
    "\n",
    "\n",
    "fig, ax = plt.subplots()\n",
    "# fig.legend(loc=1)\n",
    "colors = ['royalblue', '#ff7f0e', '#2ca02c', '#d62728', '#9467bd']\n",
    "width = 0.25\n",
    "\n",
    "# fig.set_size_inches(3.2, 4)\n",
    "fig.set_size_inches(4.8, 4)\n",
    "\n",
    "\n",
    "x = ['30%','40%','50%','60%']\n",
    "y = [66.17, 66.33,66.47, 66.06]\n",
    "\n",
    "plt.ylim((65.5, 66.6))\n",
    "ax.spines['right'].set_visible(False)\n",
    "ax.spines['top'].set_visible(False)\n",
    "\n",
    "\n",
    "\n",
    "x_1 = [0.1, 0.5, 0.9, 1.3]\n",
    "# plt.bar(x_1, y, color=colors[0], label='Mean', width=width, alpha=1)\n",
    "plt.plot(x_1, y, '.-', color='crimson', label='Mean',  alpha=0.9, markersize=15, linewidth=2.5)\n",
    "\n",
    "for i, j in zip(x_1, y):\n",
    "    if i == 0.1:\n",
    "        plt.text(i+0.02, j+0.06, str(j), ha='center',fontsize=12)\n",
    "    elif i == 0.5:\n",
    "        plt.text(i-0.02, j+0.06, str(j), ha='center',fontsize=12)\n",
    "    elif i == 1.3:\n",
    "        plt.text(i+0.02, j+0.06, str(j), ha='center',fontsize=12)\n",
    "    else:\n",
    "        plt.text(i, j+0.08, str(j), ha='center',fontsize=12)\n",
    "#     plt.text(i+0.02, j+0.15, str(j), ha='center',fontsize=12)\n",
    "\n",
    "ax.set_xticks(x_1)\n",
    "ax.set_xticklabels(x)\n",
    "plt.ylabel('Acc.(%)',fontdict={'size':20})\n",
    "\n",
    "\n",
    "# plt.xlabel(chr(945)+'2')\n",
    "plt.xlabel(r\"Ratio of cropped images\", fontdict={'size':16})\n",
    "plt.savefig('./cropped images.pdf',dpi=100,pad_inches=0,bbox_inches='tight')\n",
    "plt.show()  # 显示折线图"
   ]
  },
  {
   "cell_type": "code",
   "execution_count": null,
   "id": "d9c04686",
   "metadata": {},
   "outputs": [],
   "source": [
    "68.17-67.11"
   ]
  },
  {
   "cell_type": "code",
   "execution_count": null,
   "id": "e2401844",
   "metadata": {},
   "outputs": [],
   "source": []
  },
  {
   "cell_type": "code",
   "execution_count": null,
   "id": "1a796a06",
   "metadata": {},
   "outputs": [],
   "source": [
    "fig, ax = plt.subplots()\n",
    "# fig.legend(loc=1)\n",
    "colors = ['royalblue', '#ff7f0e', '#2ca02c', '#d62728', '#9467bd']\n",
    "width = 0.02\n",
    "\n",
    "fig.set_size_inches(4.8, 4)\n",
    "\n",
    "\n",
    "# x = ['1000','950','900','850','800','750','700','650','600']\n",
    "# y = [68.74,69,68.42,69,68.38,69,68.19,69,69]\n",
    "# x = ['1000','950','900','850','800','750','700']\n",
    "# y = [68.74,68.71,68.64,68.49,68.46,68.27,68.09]\n",
    "\n",
    "x = ['0.1','0.2','0.3','0.4']\n",
    "y = [65.94, 66.02,  66.47, 65.78]\n",
    "\n",
    "plt.ylim((65.5, 66.6))\n",
    "ax.spines['right'].set_visible(False)\n",
    "ax.spines['top'].set_visible(False)\n",
    "\n",
    "\n",
    "\n",
    "x_1 = [0.1+i*0.05 for i, _ in enumerate(x)]\n",
    "plt.bar(x_1, y, color='red', label='Mean',  alpha=0.9, markersize=20, linewidth=3)\n",
    "\n",
    "for i, j in zip(x_1, y):\n",
    "    plt.text(i, j+0.02, str(j), ha='center')\n",
    "\n",
    "ax.set_xticks(x_1)\n",
    "ax.set_xticklabels(x)\n",
    "plt.ylabel('Acc.(%)',fontdict={'size':15})\n",
    "plt.xlabel('Class Number',fontdict={'size':15})\n",
    "# plt.savefig('../fewer classes.pdf',dpi=100,pad_inches=0,bbox_inches='tight')\n",
    "plt.show()  # 显示折线图\n"
   ]
  },
  {
   "cell_type": "code",
   "execution_count": null,
   "id": "a649df3d",
   "metadata": {},
   "outputs": [],
   "source": []
  }
 ],
 "metadata": {
  "kernelspec": {
   "display_name": "Python 3",
   "language": "python",
   "name": "python3"
  },
  "language_info": {
   "codemirror_mode": {
    "name": "ipython",
    "version": 3
   },
   "file_extension": ".py",
   "mimetype": "text/x-python",
   "name": "python",
   "nbconvert_exporter": "python",
   "pygments_lexer": "ipython3",
   "version": "3.8.2"
  }
 },
 "nbformat": 4,
 "nbformat_minor": 5
}
